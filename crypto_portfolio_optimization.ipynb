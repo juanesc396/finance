{
 "cells": [
  {
   "cell_type": "markdown",
   "metadata": {},
   "source": [
    "In this notebook I search to optimize a crypto portfolio.\n",
    "\n",
    "This metodology allows to asign a portion of capital between financial assets, maximizing severals stats. E.g. Sharpe Ratio, volatility or Risk.\n",
    "\n",
    "The cryptos I chose to build an optimized portfolio are:\n",
    " - Bitcoin\n",
    " - Ethereum\n",
    " - Binance Coin\n",
    " - Solana\n",
    " - Cardano\n",
    " - NEAR Protocol\n",
    " - Avalanche\n",
    " - Artificial Superintelligence Alliance"
   ]
  },
  {
   "cell_type": "code",
   "execution_count": 1,
   "metadata": {},
   "outputs": [],
   "source": [
    "from pypfopt import risk_models\n",
    "from pypfopt import EfficientFrontier\n",
    "from pypfopt import expected_returns\n",
    "from pypfopt import plotting\n",
    "from pypfopt import DiscreteAllocation\n",
    "from pypfopt import objective_functions\n",
    "\n",
    "import pandas as pd\n",
    "import yfinance as yf"
   ]
  },
  {
   "cell_type": "code",
   "execution_count": 4,
   "metadata": {},
   "outputs": [],
   "source": [
    "import sys\n",
    "import os\n",
    "sys.path.append(os.path.abspath('/home/juan/haku/tools'))\n",
    "\n",
    "from basic_functions import get_crypto_data"
   ]
  },
  {
   "cell_type": "code",
   "execution_count": 22,
   "metadata": {},
   "outputs": [],
   "source": [
    "portfolio_symbols = ['BTCUSDT', 'ETHUSDT', 'BNBUSDT', 'SOLUSDT', 'ADAUSDT', 'NEARUSDT', 'AVAXUSDT', 'FETUSDT']"
   ]
  },
  {
   "cell_type": "code",
   "execution_count": 23,
   "metadata": {},
   "outputs": [],
   "source": [
    "# extracting the data from csvs and building a dataframe with daily returns\n",
    "dfs = {}\n",
    "for s in portfolio_symbols:\n",
    "    dfs[s] = get_crypto_data(symbol=s, timeframe='1d')\n",
    "\n",
    "for key, value in dfs.items():\n",
    "    dfs[key] = value['Close']"
   ]
  },
  {
   "cell_type": "code",
   "execution_count": 28,
   "metadata": {},
   "outputs": [],
   "source": [
    "returns_df = pd.DataFrame(dfs)"
   ]
  },
  {
   "cell_type": "code",
   "execution_count": 26,
   "metadata": {},
   "outputs": [
    {
     "data": {
      "text/html": [
       "<div>\n",
       "<style scoped>\n",
       "    .dataframe tbody tr th:only-of-type {\n",
       "        vertical-align: middle;\n",
       "    }\n",
       "\n",
       "    .dataframe tbody tr th {\n",
       "        vertical-align: top;\n",
       "    }\n",
       "\n",
       "    .dataframe thead th {\n",
       "        text-align: right;\n",
       "    }\n",
       "</style>\n",
       "<table border=\"1\" class=\"dataframe\">\n",
       "  <thead>\n",
       "    <tr style=\"text-align: right;\">\n",
       "      <th></th>\n",
       "      <th>BTCUSDT</th>\n",
       "      <th>ETHUSDT</th>\n",
       "      <th>BNBUSDT</th>\n",
       "      <th>SOLUSDT</th>\n",
       "      <th>ADAUSDT</th>\n",
       "      <th>NEARUSDT</th>\n",
       "      <th>AVAXUSDT</th>\n",
       "      <th>FETUSDT</th>\n",
       "    </tr>\n",
       "    <tr>\n",
       "      <th>Date</th>\n",
       "      <th></th>\n",
       "      <th></th>\n",
       "      <th></th>\n",
       "      <th></th>\n",
       "      <th></th>\n",
       "      <th></th>\n",
       "      <th></th>\n",
       "      <th></th>\n",
       "    </tr>\n",
       "  </thead>\n",
       "  <tbody>\n",
       "    <tr>\n",
       "      <th>2017-08-18</th>\n",
       "      <td>4108.370</td>\n",
       "      <td>293.960</td>\n",
       "      <td>NaN</td>\n",
       "      <td>NaN</td>\n",
       "      <td>NaN</td>\n",
       "      <td>NaN</td>\n",
       "      <td>NaN</td>\n",
       "      <td>NaN</td>\n",
       "    </tr>\n",
       "    <tr>\n",
       "      <th>2017-08-19</th>\n",
       "      <td>4139.980</td>\n",
       "      <td>290.910</td>\n",
       "      <td>NaN</td>\n",
       "      <td>NaN</td>\n",
       "      <td>NaN</td>\n",
       "      <td>NaN</td>\n",
       "      <td>NaN</td>\n",
       "      <td>NaN</td>\n",
       "    </tr>\n",
       "    <tr>\n",
       "      <th>2017-08-20</th>\n",
       "      <td>4086.290</td>\n",
       "      <td>299.100</td>\n",
       "      <td>NaN</td>\n",
       "      <td>NaN</td>\n",
       "      <td>NaN</td>\n",
       "      <td>NaN</td>\n",
       "      <td>NaN</td>\n",
       "      <td>NaN</td>\n",
       "    </tr>\n",
       "    <tr>\n",
       "      <th>2017-08-21</th>\n",
       "      <td>4016.000</td>\n",
       "      <td>323.290</td>\n",
       "      <td>NaN</td>\n",
       "      <td>NaN</td>\n",
       "      <td>NaN</td>\n",
       "      <td>NaN</td>\n",
       "      <td>NaN</td>\n",
       "      <td>NaN</td>\n",
       "    </tr>\n",
       "    <tr>\n",
       "      <th>2017-08-22</th>\n",
       "      <td>4040.000</td>\n",
       "      <td>309.800</td>\n",
       "      <td>NaN</td>\n",
       "      <td>NaN</td>\n",
       "      <td>NaN</td>\n",
       "      <td>NaN</td>\n",
       "      <td>NaN</td>\n",
       "      <td>NaN</td>\n",
       "    </tr>\n",
       "    <tr>\n",
       "      <th>...</th>\n",
       "      <td>...</td>\n",
       "      <td>...</td>\n",
       "      <td>...</td>\n",
       "      <td>...</td>\n",
       "      <td>...</td>\n",
       "      <td>...</td>\n",
       "      <td>...</td>\n",
       "      <td>...</td>\n",
       "    </tr>\n",
       "    <tr>\n",
       "      <th>2024-08-27</th>\n",
       "      <td>59415.000</td>\n",
       "      <td>2457.330</td>\n",
       "      <td>533.300</td>\n",
       "      <td>146.790</td>\n",
       "      <td>0.350</td>\n",
       "      <td>4.528</td>\n",
       "      <td>24.090</td>\n",
       "      <td>1.287</td>\n",
       "    </tr>\n",
       "    <tr>\n",
       "      <th>2024-08-28</th>\n",
       "      <td>59034.900</td>\n",
       "      <td>2528.330</td>\n",
       "      <td>537.000</td>\n",
       "      <td>143.950</td>\n",
       "      <td>0.350</td>\n",
       "      <td>4.345</td>\n",
       "      <td>23.450</td>\n",
       "      <td>1.195</td>\n",
       "    </tr>\n",
       "    <tr>\n",
       "      <th>2024-08-29</th>\n",
       "      <td>59359.010</td>\n",
       "      <td>2527.610</td>\n",
       "      <td>536.400</td>\n",
       "      <td>140.000</td>\n",
       "      <td>0.358</td>\n",
       "      <td>4.211</td>\n",
       "      <td>22.890</td>\n",
       "      <td>1.125</td>\n",
       "    </tr>\n",
       "    <tr>\n",
       "      <th>2024-08-30</th>\n",
       "      <td>59123.990</td>\n",
       "      <td>2526.000</td>\n",
       "      <td>535.200</td>\n",
       "      <td>137.990</td>\n",
       "      <td>0.347</td>\n",
       "      <td>4.113</td>\n",
       "      <td>23.290</td>\n",
       "      <td>1.196</td>\n",
       "    </tr>\n",
       "    <tr>\n",
       "      <th>2024-08-31</th>\n",
       "      <td>58973.990</td>\n",
       "      <td>2513.010</td>\n",
       "      <td>532.900</td>\n",
       "      <td>135.350</td>\n",
       "      <td>0.345</td>\n",
       "      <td>4.032</td>\n",
       "      <td>22.810</td>\n",
       "      <td>1.130</td>\n",
       "    </tr>\n",
       "  </tbody>\n",
       "</table>\n",
       "<p>2487 rows × 8 columns</p>\n",
       "</div>"
      ],
      "text/plain": [
       "             BTCUSDT  ETHUSDT  BNBUSDT  SOLUSDT  ADAUSDT  NEARUSDT  AVAXUSDT  \\\n",
       "Date                                                                           \n",
       "2017-08-18  4108.370  293.960      NaN      NaN      NaN       NaN       NaN   \n",
       "2017-08-19  4139.980  290.910      NaN      NaN      NaN       NaN       NaN   \n",
       "2017-08-20  4086.290  299.100      NaN      NaN      NaN       NaN       NaN   \n",
       "2017-08-21  4016.000  323.290      NaN      NaN      NaN       NaN       NaN   \n",
       "2017-08-22  4040.000  309.800      NaN      NaN      NaN       NaN       NaN   \n",
       "...              ...      ...      ...      ...      ...       ...       ...   \n",
       "2024-08-27 59415.000 2457.330  533.300  146.790    0.350     4.528    24.090   \n",
       "2024-08-28 59034.900 2528.330  537.000  143.950    0.350     4.345    23.450   \n",
       "2024-08-29 59359.010 2527.610  536.400  140.000    0.358     4.211    22.890   \n",
       "2024-08-30 59123.990 2526.000  535.200  137.990    0.347     4.113    23.290   \n",
       "2024-08-31 58973.990 2513.010  532.900  135.350    0.345     4.032    22.810   \n",
       "\n",
       "            FETUSDT  \n",
       "Date                 \n",
       "2017-08-18      NaN  \n",
       "2017-08-19      NaN  \n",
       "2017-08-20      NaN  \n",
       "2017-08-21      NaN  \n",
       "2017-08-22      NaN  \n",
       "...             ...  \n",
       "2024-08-27    1.287  \n",
       "2024-08-28    1.195  \n",
       "2024-08-29    1.125  \n",
       "2024-08-30    1.196  \n",
       "2024-08-31    1.130  \n",
       "\n",
       "[2487 rows x 8 columns]"
      ]
     },
     "execution_count": 26,
     "metadata": {},
     "output_type": "execute_result"
    }
   ],
   "source": [
    "returns_df"
   ]
  },
  {
   "cell_type": "code",
   "execution_count": 58,
   "metadata": {},
   "outputs": [
    {
     "data": {
      "text/html": [
       "<div>\n",
       "<style scoped>\n",
       "    .dataframe tbody tr th:only-of-type {\n",
       "        vertical-align: middle;\n",
       "    }\n",
       "\n",
       "    .dataframe tbody tr th {\n",
       "        vertical-align: top;\n",
       "    }\n",
       "\n",
       "    .dataframe thead th {\n",
       "        text-align: right;\n",
       "    }\n",
       "</style>\n",
       "<table border=\"1\" class=\"dataframe\">\n",
       "  <thead>\n",
       "    <tr style=\"text-align: right;\">\n",
       "      <th></th>\n",
       "      <th>BTCUSDT</th>\n",
       "      <th>ETHUSDT</th>\n",
       "      <th>BNBUSDT</th>\n",
       "      <th>SOLUSDT</th>\n",
       "      <th>ADAUSDT</th>\n",
       "      <th>NEARUSDT</th>\n",
       "      <th>AVAXUSDT</th>\n",
       "      <th>FETUSDT</th>\n",
       "    </tr>\n",
       "  </thead>\n",
       "  <tbody>\n",
       "    <tr>\n",
       "      <th>BTCUSDT</th>\n",
       "      <td>0.374</td>\n",
       "      <td>0.358</td>\n",
       "      <td>0.326</td>\n",
       "      <td>0.174</td>\n",
       "      <td>0.295</td>\n",
       "      <td>0.176</td>\n",
       "      <td>0.180</td>\n",
       "      <td>0.263</td>\n",
       "    </tr>\n",
       "    <tr>\n",
       "      <th>ETHUSDT</th>\n",
       "      <td>0.358</td>\n",
       "      <td>0.589</td>\n",
       "      <td>0.406</td>\n",
       "      <td>0.261</td>\n",
       "      <td>0.420</td>\n",
       "      <td>0.240</td>\n",
       "      <td>0.243</td>\n",
       "      <td>0.360</td>\n",
       "    </tr>\n",
       "    <tr>\n",
       "      <th>BNBUSDT</th>\n",
       "      <td>0.326</td>\n",
       "      <td>0.406</td>\n",
       "      <td>0.776</td>\n",
       "      <td>0.259</td>\n",
       "      <td>0.363</td>\n",
       "      <td>0.220</td>\n",
       "      <td>0.250</td>\n",
       "      <td>0.344</td>\n",
       "    </tr>\n",
       "    <tr>\n",
       "      <th>SOLUSDT</th>\n",
       "      <td>0.174</td>\n",
       "      <td>0.261</td>\n",
       "      <td>0.259</td>\n",
       "      <td>0.684</td>\n",
       "      <td>0.280</td>\n",
       "      <td>0.343</td>\n",
       "      <td>0.360</td>\n",
       "      <td>0.337</td>\n",
       "    </tr>\n",
       "    <tr>\n",
       "      <th>ADAUSDT</th>\n",
       "      <td>0.295</td>\n",
       "      <td>0.420</td>\n",
       "      <td>0.363</td>\n",
       "      <td>0.280</td>\n",
       "      <td>0.655</td>\n",
       "      <td>0.275</td>\n",
       "      <td>0.317</td>\n",
       "      <td>0.397</td>\n",
       "    </tr>\n",
       "    <tr>\n",
       "      <th>NEARUSDT</th>\n",
       "      <td>0.176</td>\n",
       "      <td>0.240</td>\n",
       "      <td>0.220</td>\n",
       "      <td>0.343</td>\n",
       "      <td>0.275</td>\n",
       "      <td>0.685</td>\n",
       "      <td>0.358</td>\n",
       "      <td>0.371</td>\n",
       "    </tr>\n",
       "    <tr>\n",
       "      <th>AVAXUSDT</th>\n",
       "      <td>0.180</td>\n",
       "      <td>0.243</td>\n",
       "      <td>0.250</td>\n",
       "      <td>0.360</td>\n",
       "      <td>0.317</td>\n",
       "      <td>0.358</td>\n",
       "      <td>0.640</td>\n",
       "      <td>0.332</td>\n",
       "    </tr>\n",
       "    <tr>\n",
       "      <th>FETUSDT</th>\n",
       "      <td>0.263</td>\n",
       "      <td>0.360</td>\n",
       "      <td>0.344</td>\n",
       "      <td>0.337</td>\n",
       "      <td>0.397</td>\n",
       "      <td>0.371</td>\n",
       "      <td>0.332</td>\n",
       "      <td>1.140</td>\n",
       "    </tr>\n",
       "  </tbody>\n",
       "</table>\n",
       "</div>"
      ],
      "text/plain": [
       "          BTCUSDT  ETHUSDT  BNBUSDT  SOLUSDT  ADAUSDT  NEARUSDT  AVAXUSDT  \\\n",
       "BTCUSDT     0.374    0.358    0.326    0.174    0.295     0.176     0.180   \n",
       "ETHUSDT     0.358    0.589    0.406    0.261    0.420     0.240     0.243   \n",
       "BNBUSDT     0.326    0.406    0.776    0.259    0.363     0.220     0.250   \n",
       "SOLUSDT     0.174    0.261    0.259    0.684    0.280     0.343     0.360   \n",
       "ADAUSDT     0.295    0.420    0.363    0.280    0.655     0.275     0.317   \n",
       "NEARUSDT    0.176    0.240    0.220    0.343    0.275     0.685     0.358   \n",
       "AVAXUSDT    0.180    0.243    0.250    0.360    0.317     0.358     0.640   \n",
       "FETUSDT     0.263    0.360    0.344    0.337    0.397     0.371     0.332   \n",
       "\n",
       "          FETUSDT  \n",
       "BTCUSDT     0.263  \n",
       "ETHUSDT     0.360  \n",
       "BNBUSDT     0.344  \n",
       "SOLUSDT     0.337  \n",
       "ADAUSDT     0.397  \n",
       "NEARUSDT    0.371  \n",
       "AVAXUSDT    0.332  \n",
       "FETUSDT     1.140  "
      ]
     },
     "execution_count": 58,
     "metadata": {},
     "output_type": "execute_result"
    }
   ],
   "source": [
    "# Creating a model that calculate the Covariance Shrinkage, \n",
    "# statistic technique used to estimate the covariance matrix of financial assets.\n",
    "\n",
    "S = risk_models.CovarianceShrinkage(returns_df).ledoit_wolf() # ledoit wolf is a popular method of shrinkage\n",
    "S"
   ]
  },
  {
   "cell_type": "code",
   "execution_count": 59,
   "metadata": {},
   "outputs": [
    {
     "data": {
      "text/plain": [
       "<Axes: >"
      ]
     },
     "execution_count": 59,
     "metadata": {},
     "output_type": "execute_result"
    },
    {
     "data": {
      "image/png": "[encoded data removed]",
      "text/plain": [
       "<Figure size 640x480 with 2 Axes>"
      ]
     },
     "metadata": {},
     "output_type": "display_data"
    }
   ],
   "source": [
    "plotting.plot_covariance(S, plot_correlation=True)"
   ]
  },
  {
   "cell_type": "code",
   "execution_count": 32,
   "metadata": {},
   "outputs": [
    {
     "data": {
      "text/plain": [
       "BTCUSDT    0.365\n",
       "ETHUSDT    0.474\n",
       "BNBUSDT    0.508\n",
       "SOLUSDT    0.573\n",
       "ADAUSDT    0.490\n",
       "NEARUSDT   0.582\n",
       "AVAXUSDT   0.578\n",
       "FETUSDT    0.612\n",
       "Name: mkt, dtype: float64"
      ]
     },
     "execution_count": 32,
     "metadata": {},
     "output_type": "execute_result"
    }
   ],
   "source": [
    "# Calculating the CAMP (Capital Asset Pricing Model). Searching the relation between risk and expected return of an asset \n",
    "mu = expected_returns.capm_return(returns_df)\n",
    "mu"
   ]
  },
  {
   "cell_type": "code",
   "execution_count": 54,
   "metadata": {},
   "outputs": [],
   "source": [
    "# Calculating Efficient Frontier, with the objective to create diversified portfolios \n",
    "# and find the optimal combination of assets based on different financial objectives and constraints.\n",
    "ef = EfficientFrontier(mu, S, weight_bounds=(None, None))\n",
    "ef.add_objective(objective_functions.L2_reg, gamma=0.1)\n",
    "weights = ef.min_volatility()\n",
    "cleaned_weights = ef.clean_weights()"
   ]
  },
  {
   "cell_type": "code",
   "execution_count": 55,
   "metadata": {},
   "outputs": [
    {
     "data": {
      "text/plain": [
       "OrderedDict([('BTCUSDT', 0.43169),\n",
       "             ('ETHUSDT', 0.02367),\n",
       "             ('BNBUSDT', 0.05462),\n",
       "             ('SOLUSDT', 0.14002),\n",
       "             ('ADAUSDT', 0.05113),\n",
       "             ('NEARUSDT', 0.1443),\n",
       "             ('AVAXUSDT', 0.14243),\n",
       "             ('FETUSDT', 0.01213)])"
      ]
     },
     "execution_count": 55,
     "metadata": {},
     "output_type": "execute_result"
    }
   ],
   "source": [
    "cleaned_weights"
   ]
  },
  {
   "cell_type": "code",
   "execution_count": 56,
   "metadata": {},
   "outputs": [
    {
     "name": "stdout",
     "output_type": "stream",
     "text": [
      "Expected annual return: 47.6%\n",
      "Annual volatility: 54.7%\n",
      "Sharpe Ratio: 0.83\n"
     ]
    },
    {
     "data": {
      "text/plain": [
       "(0.4755642792093668, 0.5469458574934213, 0.832923904565538)"
      ]
     },
     "execution_count": 56,
     "metadata": {},
     "output_type": "execute_result"
    }
   ],
   "source": [
    "ef.portfolio_performance(verbose=True)"
   ]
  },
  {
   "cell_type": "code",
   "execution_count": 57,
   "metadata": {},
   "outputs": [
    {
     "data": {
      "text/plain": [
       "<Axes: >"
      ]
     },
     "execution_count": 57,
     "metadata": {},
     "output_type": "execute_result"
    },
    {
     "data": {
      "image/png": "[encoded data removed]",
      "text/plain": [
       "<Figure size 1000x1000 with 1 Axes>"
      ]
     },
     "metadata": {},
     "output_type": "display_data"
    }
   ],
   "source": [
    "pd.Series(weights).plot.pie(figsize=(10,10))"
   ]
  },
  {
   "cell_type": "markdown",
   "metadata": {},
   "source": [
    "Based on the optimization, the portfolio allocates: **43.17%** to BTCUSDT, **14.43%** to NEARUSDT, **14.24%** to AVAXUSDT, and **14.00%** to SOLUSDT, forming the bulk of the investment. \n",
    "\n",
    "Additionally, **5.46%** is allocated to BNBUSDT, **5.11%** to ADAUSDT, **2.37%** to ETHUSDT, and **1.21%** to FETUSDT. \n",
    "\n",
    "This balanced distribution ensures a broad exposure to the cryptocurrency market while aiming to optimize returns based on the assets' expected performance and risk levels."
   ]
  }
 ],
 "metadata": {
  "kernelspec": {
   "display_name": "botenv",
   "language": "python",
   "name": "python3"
  },
  "language_info": {
   "codemirror_mode": {
    "name": "ipython",
    "version": 3
   },
   "file_extension": ".py",
   "mimetype": "text/x-python",
   "name": "python",
   "nbconvert_exporter": "python",
   "pygments_lexer": "ipython3",
   "version": "3.11.9"
  }
 },
 "nbformat": 4,
 "nbformat_minor": 2
}
